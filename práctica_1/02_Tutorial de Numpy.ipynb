{
 "cells": [
  {
   "cell_type": "markdown",
   "metadata": {},
   "source": [
    "## Numpy\n",
    "\n",
    "\n",
    "**Objetivo**: Aprender a crear y manipular matrices utilizando la librería Numpy de Python.\n",
    "\n",
    "**Conocimientos previos**: Programación básica en Python, concepto de vector y matriz.\n",
    "\n",
    "\n",
    "Numpy es una librería para realizar cálculo **num**érico en **py**thon. La usaremos principalmente porque nos permite crear y modificar matrices, y hacer operaciones sobre ellas con facilidad.\n",
    "\n",
    "Para comenzar a usar numpy, debemos importar la librería. En este caso la vamos a importar, y darle un sobrenombre al mismo tiempo, **np**, para que el código sea más legible\n",
    "\n"
   ]
  },
  {
   "cell_type": "code",
   "execution_count": null,
   "metadata": {},
   "outputs": [],
   "source": [
    "# importamos la librería numpy, y le damos como nombre np dentro del programa\n",
    "import numpy as np"
   ]
  },
  {
   "cell_type": "markdown",
   "metadata": {},
   "source": [
    "Ahora que tenemos la librería, empecemos creando un vector de 5 elementos. \n",
    "\n",
    "La manera más común de crear una un vector o matriz ya inicializada es con la función **np.array**, que toma una lista (o lista de listas) como parámetro y devuelve una matriz de numpy.\n"
   ]
  },
  {
   "cell_type": "code",
   "execution_count": 4,
   "metadata": {},
   "outputs": [
    {
     "name": "stdout",
     "output_type": "stream",
     "text": [
      "[11 22 33 44 55]\n"
     ]
    }
   ],
   "source": [
    "lista=[11, 22, 33, 44, 55]\n",
    "vector=np.array(lista)\n",
    "print(vector)"
   ]
  },
  {
   "cell_type": "markdown",
   "metadata": {},
   "source": [
    "¿Cuál es la diferencia entre *vector* y *lista*? Que *vector*, al ser un arreglo de numpy,  nos permite hacer varias operaciones matemáticas de forma muy simple.\n"
   ]
  },
  {
   "cell_type": "code",
   "execution_count": 5,
   "metadata": {},
   "outputs": [
    {
     "name": "stdout",
     "output_type": "stream",
     "text": [
      "- vector original\n",
      "[11 22 33 44 55]\n",
      "- sumarle 1 a cada elemento del vector:\n",
      "[12 23 34 45 56]\n",
      "- multiplicar por 5 cada elemento del vector:\n",
      "[ 55 110 165 220 275]\n",
      "- suma de los elementos:\n",
      "165\n",
      "- promedio (media) de los elementos:\n",
      "33.0\n",
      "- el vector sumado a si mismo:\n",
      "[ 22  44  66  88 110]\n",
      "- suma de vectores vector1 y vector2 (mismo tamaño):\n",
      "[12 23 35 46 57]\n"
     ]
    }
   ],
   "source": [
    "print(\"- vector original\")\n",
    "print(vector)\n",
    "\n",
    "print(\"- sumarle 1 a cada elemento del vector:\")\n",
    "print(vector+1)\n",
    "print(\"- multiplicar por 5 cada elemento del vector:\")\n",
    "print(vector*5)\n",
    "\n",
    "print(\"- suma de los elementos:\")\n",
    "print(np.sum(vector))\n",
    "\n",
    "print(\"- promedio (media) de los elementos:\")\n",
    "print(np.mean(vector)) # \n",
    "\n",
    "print(\"- el vector sumado a si mismo:\")\n",
    "print(vector+vector)\n",
    "print(\"- suma de vectores vector1 y vector2 (mismo tamaño):\")\n",
    "vector2=np.array([1, 1, 2, 2, 2])\n",
    "print(vector+vector2)\n"
   ]
  },
  {
   "cell_type": "markdown",
   "metadata": {},
   "source": [
    "### Índices y slices (rodajas) de vectores\n",
    "\n",
    "Así como con las listas, se utilizan los corchetes (*[ ]*) para acceder a sus elementos, y se pueden tomar slices o rebanadas del arreglo utilizando *:* "
   ]
  },
  {
   "cell_type": "code",
   "execution_count": 64,
   "metadata": {},
   "outputs": [
    {
     "name": "stdout",
     "output_type": "stream",
     "text": [
      "33\n",
      "[22 33]\n",
      "[11 22 33 44 55]\n",
      "[ 0 11 22 33]\n",
      "[ 0 11 22 33 44 55]\n",
      "test b: [55 44 33 22 11  0]\n",
      "forma 1: [55 44 33 22 11  0]\n",
      "forma 2: [55 44 33 22 11  0]\n",
      "ejemplo random: [55 44 33 22 11  0]\n",
      "[88 11 88 33 88 55]\n"
     ]
    }
   ],
   "source": [
    "vector= np.array([0, 11, 22, 33, 44, 55])\n",
    "print(vector[3])\n",
    "print(vector[2:4])\n",
    "print(vector[1:])\n",
    "print(vector[:4])\n",
    "print(vector[:])\n",
    "\n",
    "print('test b:', vector[len(vector)-1:-7:-1])\n",
    "print('forma 1:', vector[::-1]) # recorrido hacia atrás\n",
    "print('forma 2:', vector[len(vector):-len(vector)-1:-1]) # recorrido hacia atrás\n",
    "print('ejemplo random:', vector[100:-100:-1]) # recorrido hacia atrás\n",
    "\n",
    "# modificación de un slice\n",
    "ind= [0, 2, 4]\n",
    "vector[ind]= [88] \n",
    "print(vector)"
   ]
  },
  {
   "cell_type": "markdown",
   "metadata": {},
   "source": [
    "## Creación de vectores con valor 0 o 1\n",
    "\n",
    "Es muy común crear un vector con valores 0 o 1. Por ejemplo, cuando se utiliza un vector de contadores, donde cada contador comienza en 0. \n",
    "\n",
    "Para ello, utilizamos las funciones `np.zeros` y `np.ones`, respectivamente. Cada una toma como parámetro la cantidad de elementos del vector a crear.\n"
   ]
  },
  {
   "cell_type": "code",
   "execution_count": 70,
   "metadata": {},
   "outputs": [
    {
     "name": "stdout",
     "output_type": "stream",
     "text": [
      "- Vector de ceros:\n",
      "[0. 0. 0. 0. 0.]\n",
      "- Vector de unos:\n",
      "[1. 1. 1. 1. 1.]\n",
      "- Vector con todos los elementos con valor 2:\n",
      "[2. 2. 2. 2. 2.]\n",
      "- Vector con todos los elementos con valor 2 (otra forma):\n",
      "[2. 2. 2. 2. 2.]\n"
     ]
    }
   ],
   "source": [
    "print(\"- Vector de ceros:\")\n",
    "vector_ceros=np.zeros(5)\n",
    "print(vector_ceros)\n",
    "\n",
    "print(\"- Vector de unos:\")\n",
    "vector_unos=np.ones(5)\n",
    "print(vector_unos)\n",
    "\n",
    "\n",
    "#Combinando este tipo de creaciones con las operaciones aritméticas,\n",
    "#podemos hacer varias inicializaciones muy rápidamente\n",
    "# Por ejemplo, para crear un vector cuyos valores iniciales son todos 2.\n",
    "\n",
    "print(\"- Vector con todos los elementos con valor 2:\")\n",
    "vector_dos=np.zeros(5)+2\n",
    "print(vector_dos)\n",
    "\n",
    "print(\"- Vector con todos los elementos con valor 2 (otra forma):\")\n",
    "vector_dos_otro=np.ones((5))*2\n",
    "print(vector_dos_otro)\n",
    "\n",
    "\n"
   ]
  },
  {
   "cell_type": "markdown",
   "metadata": {},
   "source": [
    "### Matrices\n",
    "\n",
    "Los vectores son arreglos de una sola dimensión. Las matrices son arreglos de dos dimensiones; generalmente a la primera dimensión se la llama la de las *filas*, mientras que a la segunda se la llama la de las *columnas*.\n",
    "\n",
    "Por ende, para crearlas con `np.array`, necesitamos no una lista de valores, sino una lista de valores *por cada fila*, o sea, una *lista de listas*. \n",
    "\n",
    "Del mismo modo, para crearlas con `np.zeros` o `np.ones`, vamos a necesitar una **tupla** con **dos** elementos, uno por cada dimensión.\n"
   ]
  },
  {
   "cell_type": "code",
   "execution_count": 75,
   "metadata": {},
   "outputs": [
    {
     "name": "stdout",
     "output_type": "stream",
     "text": [
      "- Matriz creada con una lista de listas:\n",
      "[[ 1.  -4. ]\n",
      " [12.   3. ]\n",
      " [ 7.2  5. ]]\n",
      "- Matriz creada con np.zeros:\n",
      "[[0. 0. 0.]\n",
      " [0. 0. 0.]]\n",
      "- Matriz creada con np.ones:\n",
      "[[[1. 1. 1. 1.]\n",
      "  [1. 1. 1. 1.]\n",
      "  [1. 1. 1. 1.]]\n",
      "\n",
      " [[1. 1. 1. 1.]\n",
      "  [1. 1. 1. 1.]\n",
      "  [1. 1. 1. 1.]]]\n",
      "- Copia de la matriz creada con np.ones:\n",
      "[[[1. 1. 1. 1.]\n",
      "  [1. 1. 1. 1.]\n",
      "  [1. 1. 1. 1.]]\n",
      "\n",
      " [[1. 1. 1. 1.]\n",
      "  [1. 1. 1. 1.]\n",
      "  [1. 1. 1. 1.]]]\n"
     ]
    }
   ],
   "source": [
    "print(\"- Matriz creada con una lista de listas:\")\n",
    "lista_de_listas=[ [1  ,-4], \n",
    "                  [12 , 3], \n",
    "                  [7.2, 5]]\n",
    "matriz = np.array(lista_de_listas)\n",
    "print(matriz)\n",
    "\n",
    "\n",
    "print(\"- Matriz creada con np.zeros:\")\n",
    "dimensiones=(2,3)\n",
    "matriz_ceros = np.zeros(dimensiones)\n",
    "print(matriz_ceros)\n",
    "\n",
    "\n",
    "print(\"- Matriz creada con np.ones:\")\n",
    "dimensiones=(2,3,4)\n",
    "matriz_unos = np.ones(dimensiones)\n",
    "print(matriz_unos)\n",
    "\n",
    "#también podemos usar np.copy para copiar una matriz \n",
    "print(\"- Copia de la matriz creada con np.ones:\")\n",
    "matriz_unos_copia=np.copy(matriz_unos)\n",
    "print(matriz_unos_copia)"
   ]
  },
  {
   "cell_type": "code",
   "execution_count": null,
   "metadata": {},
   "outputs": [],
   "source": [
    "# Ejercicio\n",
    "# Crear una matriz de 4x9, que esté inicializada con el valor 0.5\n",
    "\n",
    "#IMPLEMENTAR - COMIENZO\n",
    "matriz=np.zeros((4,9))+0.5\n",
    "# matriz=np.ones((4,9))*0.5   #(VERSION ALTERNATIVA)\n",
    "#IMPLEMENTAR - FIN\n",
    "\n",
    "print(matriz)\n"
   ]
  },
  {
   "cell_type": "markdown",
   "metadata": {},
   "source": [
    "### Accediendo a las matrices\n",
    "\n",
    "También podemos usar slices para acceder a partes de las matrices. Las matrices tienen dos dimensiones, así que ahora tenemos que usar dos indices o slices para seleccionar partes.\n",
    "\n",
    "\n",
    "\n"
   ]
  },
  {
   "cell_type": "code",
   "execution_count": 76,
   "metadata": {},
   "outputs": [
    {
     "name": "stdout",
     "output_type": "stream",
     "text": [
      "Elementos individuales\n",
      "-4.0\n",
      "5.0\n",
      "Vector de elementos de la fila 1\n",
      "[12.  3.]\n",
      "Vector de elementos de la columna 0\n",
      "[ 1.  12.   7.2]\n",
      "Submatriz de 2x2 con las primeras dos filas\n",
      "[[ 1. -4.]\n",
      " [12.  3.]]\n",
      "Submatriz de 2x2 con las ultimas dos filas\n",
      "[[12.   3. ]\n",
      " [ 7.2  5. ]]\n"
     ]
    }
   ],
   "source": [
    "lista_de_listas=[ [1  ,-4], \n",
    "                  [12 , 3], \n",
    "                  [7.2, 5]]\n",
    "a = np.array(lista_de_listas)\n",
    "\n",
    "print(\"Elementos individuales\")\n",
    "print(a[0,1])\n",
    "print(a[2,1])\n",
    "\n",
    "print(\"Vector de elementos de la fila 1\")\n",
    "print(a[1,:])\n",
    "\n",
    "print(\"Vector de elementos de la columna 0\")\n",
    "print(a[:,0])\n",
    "\n",
    "print(\"Submatriz de 2x2 con las primeras dos filas\")\n",
    "print(a[0:2,:])\n",
    "\n",
    "print(\"Submatriz de 2x2 con las ultimas dos filas\")\n",
    "print(a[1:3,:])\n"
   ]
  },
  {
   "cell_type": "markdown",
   "metadata": {},
   "source": [
    "### Modificando matrices\n",
    "\n",
    "También podemos usar los slices para modificar matrices. La única diferencia es que ahora los usaremos para seleccionar que parte de la matriz vamos a cambiar.\n"
   ]
  },
  {
   "cell_type": "code",
   "execution_count": 81,
   "metadata": {},
   "outputs": [
    {
     "name": "stdout",
     "output_type": "stream",
     "text": [
      "- Matriz original:\n",
      "[[1. 2.]\n",
      " [3. 4.]\n",
      " [5. 6.]]\n",
      "- Le asignamos el valor 4 a los elementos de la columna 0:\n",
      "[[4. 2.]\n",
      " [4. 4.]\n",
      " [4. 6.]]\n",
      "- Dividimos por 3 la columna 1:\n",
      "[[4.         0.66666667]\n",
      " [4.         1.33333333]\n",
      " [4.         2.        ]]\n",
      "- Multiplicamos por 5 la fila 1:\n",
      "[[ 4.          0.66666667]\n",
      " [20.          6.66666667]\n",
      " [ 4.          2.        ]]\n",
      "- Le sumamos 1 a toda la matriz:\n",
      "[[ 5.          1.66666667]\n",
      " [21.          7.66666667]\n",
      " [ 5.          3.        ]]\n"
     ]
    }
   ],
   "source": [
    "lista_de_listas=[ [1, 2], \n",
    "                  [3, 4], \n",
    "                  [5, 6]]\n",
    "a = np.array(lista_de_listas).astype(float)  #CUIDADO!  qué ocurre si quitamos \".astype(float)\"?\n",
    "    #sin float no queda todo resultado en int\n",
    "\n",
    "print(\"- Matriz original:\")\n",
    "print(a)\n",
    "\n",
    "print(\"- Le asignamos el valor 4 a los elementos de la columna 0:\")\n",
    "a[:,0]=4\n",
    "print(a)\n",
    "\n",
    "\n",
    "print(\"- Dividimos por 3 la columna 1:\")\n",
    "a[:,1]=a[:,1]/3.0\n",
    "print(a)\n",
    "\n",
    "print(\"- Multiplicamos por 5 la fila 1:\")\n",
    "a[1,:]=a[1,:]*5\n",
    "print(a)\n",
    "\n",
    "print(\"- Le sumamos 1 a toda la matriz:\")\n",
    "a=a+1\n",
    "print(a)\n"
   ]
  },
  {
   "cell_type": "code",
   "execution_count": 84,
   "metadata": {},
   "outputs": [
    {
     "name": "stdout",
     "output_type": "stream",
     "text": [
      "Matriz original\n",
      "[[ -44.   12.]\n",
      " [  12.   51.]\n",
      " [1300.   -5.]]\n",
      "Luego de restarle 5 a la fila 2:\n",
      "[[ -44.   12.]\n",
      " [  12.   51.]\n",
      " [1295.  -10.]]\n",
      "Luego de multiplicar por 2 toda la matriz:\n",
      "[[ -88.   24.]\n",
      " [  24.  102.]\n",
      " [2590.  -20.]]\n",
      "Luego de dividir por -5 las primeras dos filas de la matriz:\n",
      "[[ -17.6    4.8]\n",
      " [   4.8   20.4]\n",
      " [2590.   -20. ]]\n",
      "La última fila de la matriz:\n",
      "[2590.  -20.]\n"
     ]
    }
   ],
   "source": [
    "#Ejercicios\n",
    "\n",
    "lista_de_listas=[ [-44,12], \n",
    "                  [12.0,51], \n",
    "                  [1300, -5.0]]\n",
    "a = np.array(lista_de_listas)\n",
    "\n",
    "print(\"Matriz original\")\n",
    "print(a)\n",
    "\n",
    "\n",
    "# Restarle 5 a la fila 2 de la matriz\n",
    "print(\"Luego de restarle 5 a la fila 2:\")\n",
    "#IMPLEMENTAR - COMIENZO\n",
    "a[2,:]=a[2,:]-5\n",
    "#IMPLEMENTAR - FIN\n",
    "print(a)\n",
    "\n",
    "# Multiplicar por 2 toda la matriz\n",
    "print(\"Luego de multiplicar por 2 toda la matriz:\")\n",
    "#IMPLEMENTAR - COMIENZO\n",
    "a = a * 2\n",
    "#IMPLEMENTAR - FIN\n",
    "print(a)\n",
    "\n",
    "# Dividir por -5 las dos primeras filas de la matriz\n",
    "print(\"Luego de dividir por -5 las primeras dos filas de la matriz:\")\n",
    "#IMPLEMENTAR - COMIENZO\n",
    "a[0:2,:]=a[0:2,:]/5\n",
    "#IMPLEMENTAR - FIN\n",
    "print(a)\n",
    "\n",
    "\n",
    "#Imprimir la ultima fila de la matriz\n",
    "print(\"La última fila de la matriz:\")\n",
    "#IMPLEMENTAR - COMIENZO\n",
    "ultima_fila=a[2,:]\n",
    "#IMPLEMENTAR - FIN\n",
    "print(ultima_fila)\n",
    "\n",
    "\n"
   ]
  },
  {
   "cell_type": "code",
   "execution_count": null,
   "metadata": {},
   "outputs": [],
   "source": [
    "# Más ejercicios\n",
    "\n",
    "lista_de_listas=[ [-44,12], \n",
    "                  [12.0,51], \n",
    "                  [1300, -5.0]]\n",
    "a = np.array(lista_de_listas)\n",
    "\n",
    "# Calcular la suma y el promedio de los elementos de a utilizando dos fors anidados\n",
    "suma = 0\n",
    "promedio= 0\n",
    "#IMPLEMENTAR - COMIENZO\n",
    "\n",
    "for i in range(3):\n",
    "    for j in range(2):\n",
    "        suma+=a[i,j]\n",
    "promedio=suma/(3*2)\n",
    "print(\"La suma de los elementos de A es:\")\n",
    "print(suma)\n",
    "print(\"El promedio de los elementos de A es:\")\n",
    "print(promedio)\n",
    "#IMPLEMENTAR - FIN\n",
    "\n",
    "# Imprimir la suma de los elementos de a utilizando np.sum\n",
    "#IMPLEMENTAR - COMIENZO\n",
    "print(\"La suma de los elementos de A es:\")\n",
    "print(np.sum(a))\n",
    "#IMPLEMENTAR - FIN\n",
    "\n",
    "# Imprimir el promedio de los elementos de a utilizando slices y np.mean\n",
    "#IMPLEMENTAR - COMIENZO\n",
    "print(\"El promedio de los elementos de A es:\")\n",
    "print(np.mean(a))\n",
    "#IMPLEMENTAR - FIN\n"
   ]
  },
  {
   "cell_type": "markdown",
   "metadata": {},
   "source": [
    "### Ejercicios de repaso (no se harán durante el taller, son para practicar)"
   ]
  },
  {
   "cell_type": "code",
   "execution_count": null,
   "metadata": {},
   "outputs": [],
   "source": [
    "# Generar una matriz de 7 por 9. \n",
    "# Las primeras 3 columnas de la matriz tienen que tener el valor 0. \n",
    "# La siguiente columna debe tener el valor 0.5, excepto por el último valor de esa columna, que tiene que ser 0.7.\n",
    "# Las otras tres columnas deben tener el valor 1.\n",
    "#IMPLEMENTAR - COMIENZO\n",
    "a=np.zeros((7,9))\n",
    "a[:,3]=0.5\n",
    "a[6,3]=0.7\n",
    "a[:,4:]=1\n",
    "\n",
    "# Luego imprimir la matriz\n",
    "print(\"La matriz generada:\")\n",
    "print(a)\n",
    "# Imprimir también el promedio de la ultima fila.\n",
    "print(\"Promedio de la ultima fila\")\n",
    "print(np.mean(a[6,:]))\n",
    "#IMPLEMENTAR - FIN\n"
   ]
  },
  {
   "cell_type": "code",
   "execution_count": null,
   "metadata": {},
   "outputs": [],
   "source": []
  },
  {
   "cell_type": "code",
   "execution_count": null,
   "metadata": {},
   "outputs": [],
   "source": [
    "#La siguiente linea crea una matriz aleatoria de 5 por 5 con valores entre 0 y 1\n",
    "matriz_aleatoria=np.random.rand(5,5) \n",
    "print(\"Valores de la matriz aleatoria:\")\n",
    "print(matriz_aleatoria)\n",
    "\n",
    "#Imprimir las posiciones (Fila y columna) de los elementos de la matriz \n",
    "# que son mayores que 0.5\n",
    "\n",
    "#IMPLEMENTAR - COMIENZO\n",
    "print(\"Posiciones con valor mayor a 0.5:\")\n",
    "for i in range(5):\n",
    "    for j in range(5):\n",
    "        if matriz_aleatoria[i,j]>0.5:\n",
    "            print(i,j)\n",
    "\n",
    "#IMPLEMENTAR - FIN\n",
    "\n"
   ]
  },
  {
   "cell_type": "code",
   "execution_count": 92,
   "metadata": {},
   "outputs": [
    {
     "data": {
      "image/png": "[encoded data removed]",
      "text/plain": [
       "<Figure size 432x288 with 16 Axes>"
      ]
     },
     "metadata": {
      "needs_background": "light"
     },
     "output_type": "display_data"
    }
   ],
   "source": [
    "#Practica 1 EJ 4 Completo\n",
    "\n",
    "# En este ejercicio deberá implementar la función `calcular` y verificar su correcto funcionamiento\n",
    "import numpy as np\n",
    "import pandas as pd\n",
    "\n",
    "dataframe = pd.read_csv('iris.csv')\n",
    "\n",
    "df = pd.read_csv('iris.csv')\n",
    "\n",
    "data = pd.plotting.scatter_matrix(df, alpha=0.2)\n",
    "\n",
    "df.hist()\n"
   ]
  },
  {
   "cell_type": "markdown",
   "metadata": {},
   "source": [
    "## Otros tutoriales\n",
    "\n",
    "\n",
    "Este tutorial corto intenta darte los elementos mínimos de numpy sobre vectores y matrices y cómo acceder a sus elementos. Si querés aprender más, podés consultar esta [referencia rápida de numpy en inglés](https://s3.amazonaws.com/assets.datacamp.com/blog_assets/Numpy_Python_Cheat_Sheet.pdf) o la [referencia oficial de numpy](https://docs.scipy.org/doc/numpy-1.13.0/reference/).\n",
    "\n",
    "También podés complementar este recurso con el curso online de [Introducción a Python para científicos e ingenieros](http://cacheme.org/curso-online-python-cientifico-ingenieros/) y sus [videos](https://www.youtube.com/watch?v=ox09Jko1ErM)."
   ]
  }
 ],
 "metadata": {
  "kernelspec": {
   "display_name": "Python 3",
   "language": "python",
   "name": "python3"
  },
  "language_info": {
   "codemirror_mode": {
    "name": "ipython",
    "version": 3
   },
   "file_extension": ".py",
   "mimetype": "text/x-python",
   "name": "python",
   "nbconvert_exporter": "python",
   "pygments_lexer": "ipython3",
   "version": "3.8.3"
  }
 },
 "nbformat": 4,
 "nbformat_minor": 2
}
